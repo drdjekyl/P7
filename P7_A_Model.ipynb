{
 "cells": [
  {
   "cell_type": "raw",
   "id": "hungarian-intellectual",
   "metadata": {},
   "source": [
    "The first part below is extracted from the Kaggle kernel:\n",
    "https://www.kaggle.com/jsaguiar/lightgbm-with-simple-features\n",
    "\n",
    "It allows us to work with harmonized dF train, test and target, resulting from merge operations of all dF available in Kaggle. Only the functions to merge and store unified dF were used.\n",
    "\n",
    "Special thanks to jsaguiar for its notebook of great content and quality\n",
    "\n",
    "\n",
    "In the next part, we will try to explore a few features engineering, hyperparamer optimization with hyperopt and choose the metrics in adequation with our goal:\n",
    "  -> Develop a scoring model of the customer's probability of defaulting on payments"
   ]
  },
  {
   "cell_type": "markdown",
   "id": "prescribed-hollywood",
   "metadata": {},
   "source": [
    "**I. Merging all dF**"
   ]
  },
  {
   "cell_type": "code",
   "execution_count": 1,
   "id": "residential-crowd",
   "metadata": {
    "ExecuteTime": {
     "end_time": "2021-03-24T13:10:38.341906Z",
     "start_time": "2021-03-24T13:10:37.135810Z"
    }
   },
   "outputs": [],
   "source": [
    "import pandas as pd\n",
    "import numpy as np\n",
    "from contextlib import contextmanager\n",
    "import gc\n",
    "import time\n",
    "\n",
    "\n",
    "@contextmanager\n",
    "def timer(title):\n",
    "    t0 = time.time()\n",
    "    yield\n",
    "    print(\"{} - done in {:.0f}s\".format(title, time.time() - t0))\n",
    "\n",
    "\n",
    "# One-hot encoding for categorical columns with get_dummies\n",
    "def one_hot_encoder(df, nan_as_category=True):\n",
    "    original_columns = list(df.columns)\n",
    "    categorical_columns = [\n",
    "        col for col in df.columns if df[col].dtype == 'object'\n",
    "    ]\n",
    "    df = pd.get_dummies(df,\n",
    "                        columns=categorical_columns,\n",
    "                        dummy_na=nan_as_category)\n",
    "    new_columns = [c for c in df.columns if c not in original_columns]\n",
    "    return df, new_columns\n",
    "\n",
    "\n",
    "# Preprocess application_train.csv and application_test.csv\n",
    "def application_train_test(num_rows=None, nan_as_category=False):\n",
    "    # Read data and merge\n",
    "    df = pd.read_csv('application_train.csv', nrows=num_rows)\n",
    "    test_df = pd.read_csv('application_test.csv', nrows=num_rows)\n",
    "    print(\"Train samples: {}, test samples: {}\".format(len(df), len(test_df)))\n",
    "    df = df.append(test_df).reset_index()\n",
    "    # Optional: Remove 4 applications with XNA CODE_GENDER (train set)\n",
    "    df = df[df['CODE_GENDER'] != 'XNA']\n",
    "    print(df['CODE_GENDER'][0])\n",
    "    # Categorical features with Binary encode (0 or 1; two categories)\n",
    "    for bin_feature in ['CODE_GENDER', 'FLAG_OWN_CAR', 'FLAG_OWN_REALTY']:\n",
    "        df[bin_feature], uniques = pd.factorize(df[bin_feature])\n",
    "    print(df['CODE_GENDER'][0])\n",
    "    # Categorical features with One-Hot encode\n",
    "    df, cat_cols = one_hot_encoder(df, nan_as_category)\n",
    "\n",
    "    # NaN values for DAYS_EMPLOYED: 365.243 -> nan\n",
    "    df['DAYS_EMPLOYED'].replace(365243, np.nan, inplace=True)\n",
    "    # Some simple new features (percentages)\n",
    "    df['DAYS_EMPLOYED_PERC'] = df['DAYS_EMPLOYED'] / df['DAYS_BIRTH']\n",
    "    df['INCOME_CREDIT_PERC'] = df['AMT_INCOME_TOTAL'] / df['AMT_CREDIT']\n",
    "    df['INCOME_PER_PERSON'] = df['AMT_INCOME_TOTAL'] / df['CNT_FAM_MEMBERS']\n",
    "    df['ANNUITY_INCOME_PERC'] = df['AMT_ANNUITY'] / df['AMT_INCOME_TOTAL']\n",
    "    df['PAYMENT_RATE'] = df['AMT_ANNUITY'] / df['AMT_CREDIT']\n",
    "    del test_df\n",
    "    gc.collect()\n",
    "    return df\n",
    "\n",
    "\n",
    "# Preprocess bureau.csv and bureau_balance.csv\n",
    "def bureau_and_balance(num_rows=None, nan_as_category=True):\n",
    "    bureau = pd.read_csv('bureau.csv', nrows=num_rows)\n",
    "    bb = pd.read_csv('bureau_balance.csv', nrows=num_rows)\n",
    "    bb, bb_cat = one_hot_encoder(bb, nan_as_category)\n",
    "    bureau, bureau_cat = one_hot_encoder(bureau, nan_as_category)\n",
    "\n",
    "    # Bureau balance: Perform aggregations and merge with bureau.csv\n",
    "    bb_aggregations = {'MONTHS_BALANCE': ['min', 'max', 'size']}\n",
    "    for col in bb_cat:\n",
    "        bb_aggregations[col] = ['mean']\n",
    "    bb_agg = bb.groupby('SK_ID_BUREAU').agg(bb_aggregations)\n",
    "    bb_agg.columns = pd.Index(\n",
    "        [e[0] + \"_\" + e[1].upper() for e in bb_agg.columns.tolist()])\n",
    "    bureau = bureau.join(bb_agg, how='left', on='SK_ID_BUREAU')\n",
    "    bureau.drop(['SK_ID_BUREAU'], axis=1, inplace=True)\n",
    "    del bb, bb_agg\n",
    "    gc.collect()\n",
    "\n",
    "    # Bureau and bureau_balance numeric features\n",
    "    num_aggregations = {\n",
    "        'DAYS_CREDIT': ['min', 'max', 'mean', 'var'],\n",
    "        'DAYS_CREDIT_ENDDATE': ['min', 'max', 'mean'],\n",
    "        'DAYS_CREDIT_UPDATE': ['mean'],\n",
    "        'CREDIT_DAY_OVERDUE': ['max', 'mean'],\n",
    "        'AMT_CREDIT_MAX_OVERDUE': ['mean'],\n",
    "        'AMT_CREDIT_SUM': ['max', 'mean', 'sum'],\n",
    "        'AMT_CREDIT_SUM_DEBT': ['max', 'mean', 'sum'],\n",
    "        'AMT_CREDIT_SUM_OVERDUE': ['mean'],\n",
    "        'AMT_CREDIT_SUM_LIMIT': ['mean', 'sum'],\n",
    "        'AMT_ANNUITY': ['max', 'mean'],\n",
    "        'CNT_CREDIT_PROLONG': ['sum'],\n",
    "        'MONTHS_BALANCE_MIN': ['min'],\n",
    "        'MONTHS_BALANCE_MAX': ['max'],\n",
    "        'MONTHS_BALANCE_SIZE': ['mean', 'sum']\n",
    "    }\n",
    "    # Bureau and bureau_balance categorical features\n",
    "    cat_aggregations = {}\n",
    "    for cat in bureau_cat:\n",
    "        cat_aggregations[cat] = ['mean']\n",
    "    for cat in bb_cat:\n",
    "        cat_aggregations[cat + \"_MEAN\"] = ['mean']\n",
    "\n",
    "    bureau_agg = bureau.groupby('SK_ID_CURR').agg({\n",
    "        **num_aggregations,\n",
    "        **cat_aggregations\n",
    "    })\n",
    "    bureau_agg.columns = pd.Index([\n",
    "        'BURO_' + e[0] + \"_\" + e[1].upper()\n",
    "        for e in bureau_agg.columns.tolist()\n",
    "    ])\n",
    "    # Bureau: Active credits - using only numerical aggregations\n",
    "    active = bureau[bureau['CREDIT_ACTIVE_Active'] == 1]\n",
    "    active_agg = active.groupby('SK_ID_CURR').agg(num_aggregations)\n",
    "    active_agg.columns = pd.Index([\n",
    "        'ACTIVE_' + e[0] + \"_\" + e[1].upper()\n",
    "        for e in active_agg.columns.tolist()\n",
    "    ])\n",
    "    bureau_agg = bureau_agg.join(active_agg, how='left', on='SK_ID_CURR')\n",
    "    del active, active_agg\n",
    "    gc.collect()\n",
    "    # Bureau: Closed credits - using only numerical aggregations\n",
    "    closed = bureau[bureau['CREDIT_ACTIVE_Closed'] == 1]\n",
    "    closed_agg = closed.groupby('SK_ID_CURR').agg(num_aggregations)\n",
    "    closed_agg.columns = pd.Index([\n",
    "        'CLOSED_' + e[0] + \"_\" + e[1].upper()\n",
    "        for e in closed_agg.columns.tolist()\n",
    "    ])\n",
    "    bureau_agg = bureau_agg.join(closed_agg, how='left', on='SK_ID_CURR')\n",
    "    del closed, closed_agg, bureau\n",
    "    gc.collect()\n",
    "    return bureau_agg\n",
    "\n",
    "\n",
    "# Preprocess previous_applications.csv\n",
    "def previous_applications(num_rows=None, nan_as_category=True):\n",
    "    prev = pd.read_csv('previous_application.csv', nrows=num_rows)\n",
    "    prev, cat_cols = one_hot_encoder(prev, nan_as_category=True)\n",
    "    # Days 365.243 values -> nan\n",
    "    prev['DAYS_FIRST_DRAWING'].replace(365243, np.nan, inplace=True)\n",
    "    prev['DAYS_FIRST_DUE'].replace(365243, np.nan, inplace=True)\n",
    "    prev['DAYS_LAST_DUE_1ST_VERSION'].replace(365243, np.nan, inplace=True)\n",
    "    prev['DAYS_LAST_DUE'].replace(365243, np.nan, inplace=True)\n",
    "    prev['DAYS_TERMINATION'].replace(365243, np.nan, inplace=True)\n",
    "    # Add feature: value ask / value received percentage\n",
    "    prev['APP_CREDIT_PERC'] = prev['AMT_APPLICATION'] / prev['AMT_CREDIT']\n",
    "    # Previous applications numeric features\n",
    "    num_aggregations = {\n",
    "        'AMT_ANNUITY': ['min', 'max', 'mean'],\n",
    "        'AMT_APPLICATION': ['min', 'max', 'mean'],\n",
    "        'AMT_CREDIT': ['min', 'max', 'mean'],\n",
    "        'APP_CREDIT_PERC': ['min', 'max', 'mean', 'var'],\n",
    "        'AMT_DOWN_PAYMENT': ['min', 'max', 'mean'],\n",
    "        'AMT_GOODS_PRICE': ['min', 'max', 'mean'],\n",
    "        'HOUR_APPR_PROCESS_START': ['min', 'max', 'mean'],\n",
    "        'RATE_DOWN_PAYMENT': ['min', 'max', 'mean'],\n",
    "        'DAYS_DECISION': ['min', 'max', 'mean'],\n",
    "        'CNT_PAYMENT': ['mean', 'sum'],\n",
    "    }\n",
    "    # Previous applications categorical features\n",
    "    cat_aggregations = {}\n",
    "    for cat in cat_cols:\n",
    "        cat_aggregations[cat] = ['mean']\n",
    "\n",
    "    prev_agg = prev.groupby('SK_ID_CURR').agg({\n",
    "        **num_aggregations,\n",
    "        **cat_aggregations\n",
    "    })\n",
    "    prev_agg.columns = pd.Index([\n",
    "        'PREV_' + e[0] + \"_\" + e[1].upper() for e in prev_agg.columns.tolist()\n",
    "    ])\n",
    "    # Previous Applications: Approved Applications - only numerical features\n",
    "    approved = prev[prev['NAME_CONTRACT_STATUS_Approved'] == 1]\n",
    "    approved_agg = approved.groupby('SK_ID_CURR').agg(num_aggregations)\n",
    "    approved_agg.columns = pd.Index([\n",
    "        'APPROVED_' + e[0] + \"_\" + e[1].upper()\n",
    "        for e in approved_agg.columns.tolist()\n",
    "    ])\n",
    "    prev_agg = prev_agg.join(approved_agg, how='left', on='SK_ID_CURR')\n",
    "    # Previous Applications: Refused Applications - only numerical features\n",
    "    refused = prev[prev['NAME_CONTRACT_STATUS_Refused'] == 1]\n",
    "    refused_agg = refused.groupby('SK_ID_CURR').agg(num_aggregations)\n",
    "    refused_agg.columns = pd.Index([\n",
    "        'REFUSED_' + e[0] + \"_\" + e[1].upper()\n",
    "        for e in refused_agg.columns.tolist()\n",
    "    ])\n",
    "    prev_agg = prev_agg.join(refused_agg, how='left', on='SK_ID_CURR')\n",
    "    del refused, refused_agg, approved, approved_agg, prev\n",
    "    gc.collect()\n",
    "    return prev_agg\n",
    "\n",
    "\n",
    "# Preprocess POS_CASH_balance.csv\n",
    "def pos_cash(num_rows=None, nan_as_category=True):\n",
    "    pos = pd.read_csv('POS_CASH_balance.csv', nrows=num_rows)\n",
    "    pos, cat_cols = one_hot_encoder(pos, nan_as_category=True)\n",
    "    # Features\n",
    "    aggregations = {\n",
    "        'MONTHS_BALANCE': ['max', 'mean', 'size'],\n",
    "        'SK_DPD': ['max', 'mean'],\n",
    "        'SK_DPD_DEF': ['max', 'mean']\n",
    "    }\n",
    "    for cat in cat_cols:\n",
    "        aggregations[cat] = ['mean']\n",
    "\n",
    "    pos_agg = pos.groupby('SK_ID_CURR').agg(aggregations)\n",
    "    pos_agg.columns = pd.Index(\n",
    "        ['POS_' + e[0] + \"_\" + e[1].upper() for e in pos_agg.columns.tolist()])\n",
    "    # Count pos cash accounts\n",
    "    pos_agg['POS_COUNT'] = pos.groupby('SK_ID_CURR').size()\n",
    "    del pos\n",
    "    gc.collect()\n",
    "    return pos_agg\n",
    "\n",
    "\n",
    "# Preprocess installments_payments.csv\n",
    "def installments_payments(num_rows=None, nan_as_category=True):\n",
    "    ins = pd.read_csv('installments_payments.csv', nrows=num_rows)\n",
    "    ins, cat_cols = one_hot_encoder(ins, nan_as_category=True)\n",
    "    # Percentage and difference paid in each installment (amount paid and installment value)\n",
    "    ins['PAYMENT_PERC'] = ins['AMT_PAYMENT'] / ins['AMT_INSTALMENT']\n",
    "    ins['PAYMENT_DIFF'] = ins['AMT_INSTALMENT'] - ins['AMT_PAYMENT']\n",
    "    # Days past due and days before due (no negative values)\n",
    "    ins['DPD'] = ins['DAYS_ENTRY_PAYMENT'] - ins['DAYS_INSTALMENT']\n",
    "    ins['DBD'] = ins['DAYS_INSTALMENT'] - ins['DAYS_ENTRY_PAYMENT']\n",
    "    ins['DPD'] = ins['DPD'].apply(lambda x: x if x > 0 else 0)\n",
    "    ins['DBD'] = ins['DBD'].apply(lambda x: x if x > 0 else 0)\n",
    "    # Features: Perform aggregations\n",
    "    aggregations = {\n",
    "        'NUM_INSTALMENT_VERSION': ['nunique'],\n",
    "        'DPD': ['max', 'mean', 'sum'],\n",
    "        'DBD': ['max', 'mean', 'sum'],\n",
    "        'PAYMENT_PERC': ['max', 'mean', 'sum', 'var'],\n",
    "        'PAYMENT_DIFF': ['max', 'mean', 'sum', 'var'],\n",
    "        'AMT_INSTALMENT': ['max', 'mean', 'sum'],\n",
    "        'AMT_PAYMENT': ['min', 'max', 'mean', 'sum'],\n",
    "        'DAYS_ENTRY_PAYMENT': ['max', 'mean', 'sum']\n",
    "    }\n",
    "    for cat in cat_cols:\n",
    "        aggregations[cat] = ['mean']\n",
    "    ins_agg = ins.groupby('SK_ID_CURR').agg(aggregations)\n",
    "    ins_agg.columns = pd.Index([\n",
    "        'INSTAL_' + e[0] + \"_\" + e[1].upper()\n",
    "        for e in ins_agg.columns.tolist()\n",
    "    ])\n",
    "    # Count installments accounts\n",
    "    ins_agg['INSTAL_COUNT'] = ins.groupby('SK_ID_CURR').size()\n",
    "    del ins\n",
    "    gc.collect()\n",
    "    return ins_agg\n",
    "\n",
    "\n",
    "# Preprocess credit_card_balance.csv\n",
    "def credit_card_balance(num_rows=None, nan_as_category=True):\n",
    "    cc = pd.read_csv('credit_card_balance.csv', nrows=num_rows)\n",
    "    cc, cat_cols = one_hot_encoder(cc, nan_as_category=True)\n",
    "    # General aggregations\n",
    "    cc.drop(['SK_ID_PREV'], axis=1, inplace=True)\n",
    "    cc_agg = cc.groupby('SK_ID_CURR').agg(['min', 'max', 'mean', 'sum', 'var'])\n",
    "    cc_agg.columns = pd.Index(\n",
    "        ['CC_' + e[0] + \"_\" + e[1].upper() for e in cc_agg.columns.tolist()])\n",
    "    # Count credit card lines\n",
    "    cc_agg['CC_COUNT'] = cc.groupby('SK_ID_CURR').size()\n",
    "    del cc\n",
    "    gc.collect()\n",
    "    return cc_agg"
   ]
  },
  {
   "cell_type": "code",
   "execution_count": null,
   "id": "exotic-arena",
   "metadata": {
    "ExecuteTime": {
     "end_time": "2021-03-24T13:10:57.171162Z",
     "start_time": "2021-03-24T13:10:41.491250Z"
    },
    "code_folding": []
   },
   "outputs": [],
   "source": [
    "# Let the process do its job and then collect the merged dF\n",
    "num_rows = None\n",
    "df = application_train_test(num_rows)\n",
    "\n",
    "with timer(\"Process bureau and bureau_balance\"):\n",
    "    bureau = bureau_and_balance(num_rows)\n",
    "    print(\"Bureau df shape:\", bureau.shape)\n",
    "    df = df.join(bureau, how='left', on='SK_ID_CURR')\n",
    "    del bureau\n",
    "    gc.collect()\n",
    "with timer(\"Process previous_applications\"):\n",
    "    prev = previous_applications(num_rows)\n",
    "    print(\"Previous applications df shape:\", prev.shape)\n",
    "    df = df.join(prev, how='left', on='SK_ID_CURR')\n",
    "    del prev\n",
    "    gc.collect()\n",
    "with timer(\"Process POS-CASH balance\"):\n",
    "    pos = pos_cash(num_rows)\n",
    "    print(\"Pos-cash balance df shape:\", pos.shape)\n",
    "    df = df.join(pos, how='left', on='SK_ID_CURR')\n",
    "    del pos\n",
    "    gc.collect()\n",
    "with timer(\"Process installments payments\"):\n",
    "    ins = installments_payments(num_rows)\n",
    "    print(\"Installments payments df shape:\", ins.shape)\n",
    "    df = df.join(ins, how='left', on='SK_ID_CURR')\n",
    "    del ins\n",
    "    gc.collect()\n",
    "with timer(\"Process credit card balance\"):\n",
    "    cc = credit_card_balance(num_rows)\n",
    "    print(\"Credit card balance df shape:\", cc.shape)\n",
    "    df = df.join(cc, how='left', on='SK_ID_CURR')\n",
    "    del cc\n",
    "    gc.collect()\n",
    "with timer(\"Save df\"):\n",
    "    df.to_csv('merged_df.csv.gz', compression='gzip', index=False)"
   ]
  },
  {
   "cell_type": "raw",
   "id": "composite-bridge",
   "metadata": {},
   "source": [
    "We have loaded our dataframe with approximately 800 features and 300k clients and stored it in a tar.gz file. It will facilitate our future works and is a huge gain of time process. \n",
    "\n",
    "We are now able to work on our real project! As you know, we search to predict the capacity to a client to reimburse its loan, based on its bank history and previous loan applications. "
   ]
  },
  {
   "cell_type": "markdown",
   "id": "opened-organic",
   "metadata": {},
   "source": [
    "**II. Load dF**"
   ]
  },
  {
   "cell_type": "markdown",
   "id": "emotional-lithuania",
   "metadata": {},
   "source": [
    "*II.1 Charging dataset* "
   ]
  },
  {
   "cell_type": "code",
   "execution_count": null,
   "id": "southwest-gasoline",
   "metadata": {
    "ExecuteTime": {
     "end_time": "2021-03-15T05:35:05.678002Z",
     "start_time": "2021-03-15T05:33:58.620831Z"
    }
   },
   "outputs": [],
   "source": [
    "import pandas as pd\n",
    "import gc\n",
    "import re\n",
    "\n",
    "# Pandas option to display dF efficiently\n",
    "pd.set_option('display.max_columns', 100)\n",
    "pd.set_option('display.max_rows', 100)\n",
    "pd.set_option('display.width', 200)\n",
    "pd.set_option('display.max_colwidth', 200)\n",
    "\n",
    "df = pd.read_csv('merged_df.csv.gz', compression='gzip')\n",
    "\n",
    "# Collect features\n",
    "feats = [\n",
    "    f for f in df.columns if f not in\n",
    "    ['TARGET', 'SK_ID_CURR', 'SK_ID_BUREAU', 'SK_ID_PREV', 'index']\n",
    "]\n",
    "\n",
    "# Create dF with all features without TARGET\n",
    "train_df = df[df['TARGET'].notnull()][feats]\n",
    "train_df = train_df.rename(columns=lambda x: re.sub('[^A-Za-z0-9_]+', '', x))\n",
    "\n",
    "# Create dF TARGET\n",
    "train_target = df[df['TARGET'].notnull()]['TARGET']\n",
    "\n",
    "# Create dF test for submission to Kaggle Leaderboard\n",
    "test_df = df[df['TARGET'].isnull()][feats]\n",
    "test_df = test_df.rename(columns=lambda x: re.sub('[^A-Za-z0-9_]+', '', x))\n",
    "\n",
    "del df\n",
    "gc.collect()"
   ]
  },
  {
   "cell_type": "markdown",
   "id": "adjacent-headline",
   "metadata": {},
   "source": [
    "*II.2 Exploring dataset* "
   ]
  },
  {
   "cell_type": "code",
   "execution_count": null,
   "id": "technological-yield",
   "metadata": {
    "ExecuteTime": {
     "end_time": "2021-03-10T10:30:45.802607Z",
     "start_time": "2021-03-10T10:30:45.781504Z"
    }
   },
   "outputs": [],
   "source": [
    "print(('Trainset shape {} Testset shape {} Target shape {}').format(\n",
    "    train_df.shape, test_df.shape, train_target.shape))"
   ]
  },
  {
   "cell_type": "code",
   "execution_count": null,
   "id": "objective-peoples",
   "metadata": {
    "ExecuteTime": {
     "end_time": "2021-03-10T07:29:29.952466Z",
     "start_time": "2021-03-10T07:29:29.789976Z"
    }
   },
   "outputs": [],
   "source": [
    "display(train_df.head())"
   ]
  },
  {
   "cell_type": "code",
   "execution_count": null,
   "id": "lovely-level",
   "metadata": {
    "ExecuteTime": {
     "end_time": "2021-03-10T07:29:32.267233Z",
     "start_time": "2021-03-10T07:29:32.236381Z"
    }
   },
   "outputs": [],
   "source": [
    "train_target.value_counts()\n",
    "# It returns us an imbalanced problem"
   ]
  },
  {
   "cell_type": "code",
   "execution_count": null,
   "id": "premier-waste",
   "metadata": {
    "ExecuteTime": {
     "end_time": "2021-03-10T07:29:33.548341Z",
     "start_time": "2021-03-10T07:29:33.539474Z"
    }
   },
   "outputs": [],
   "source": [
    "print('Positive / Negative ratio: ', 24825 / 282682)"
   ]
  },
  {
   "cell_type": "code",
   "execution_count": null,
   "id": "determined-uniform",
   "metadata": {
    "ExecuteTime": {
     "end_time": "2021-03-10T10:30:52.556524Z",
     "start_time": "2021-03-10T10:30:51.964492Z"
    }
   },
   "outputs": [],
   "source": [
    "import numpy as np\n",
    "\n",
    "var = pd.concat([train_df, train_target], axis=1)\n",
    "tar0 = np.mean(var['AMT_CREDIT'][var['TARGET'] == 0] * 1 / 100)\n",
    "tar1 = np.mean(var['AMT_CREDIT'][var['TARGET'] == 1] * 1 / 100)\n",
    "\n",
    "print('Estimation of loan interest at 1% of the credit by clients target')\n",
    "print('Negative clients: ', np.round(tar0))\n",
    "print('Positive clients: ', np.round(tar1))"
   ]
  },
  {
   "cell_type": "raw",
   "id": "modern-transparency",
   "metadata": {},
   "source": [
    "Imbalanced problem needs an approach who take account of clients weights. Is considered as :\n",
    "    1, a client with payment difficulties: he/she had late payment more than X days. Also, is considered as\n",
    "    0, all the others clients cases. \n",
    "    \n",
    "We will see lately and dive more into this imbalanced classification problem. Especially, how to respond to it and how to chose the right metrics. "
   ]
  },
  {
   "cell_type": "code",
   "execution_count": null,
   "id": "paperback-boring",
   "metadata": {
    "ExecuteTime": {
     "end_time": "2021-03-09T16:32:00.681897Z",
     "start_time": "2021-03-09T16:32:00.667994Z"
    }
   },
   "outputs": [],
   "source": [
    "# Function to calculate missing values by column\n",
    "def missing_values_table(df):\n",
    "    # Total missing values\n",
    "    mis_val = df.isnull().sum()\n",
    "\n",
    "    # Percentage of missing values\n",
    "    mis_val_percent = 100 * df.isnull().sum() / len(df)\n",
    "\n",
    "    # Make a table with the results\n",
    "    mis_val_table = pd.concat([mis_val, mis_val_percent], axis=1)\n",
    "\n",
    "    # Rename the columns\n",
    "    mis_val_table_ren_columns = mis_val_table.rename(columns={\n",
    "        0: 'Missing Values',\n",
    "        1: '% of Total Values'\n",
    "    })\n",
    "\n",
    "    # Sort the table by percentage of missing descending\n",
    "    mis_val_table_ren_columns = mis_val_table_ren_columns[\n",
    "        mis_val_table_ren_columns.iloc[:, 1] != 0].sort_values(\n",
    "            '% of Total Values', ascending=False).round(1)\n",
    "\n",
    "    # Print some summary information\n",
    "    print(\"Your selected dataframe has \" + str(df.shape[1]) + \" columns.\\n\"\n",
    "          \"There are \" + str(mis_val_table_ren_columns.shape[0]) +\n",
    "          \" columns that have missing values.\")\n",
    "\n",
    "    # Return the dataframe with missing information\n",
    "    return mis_val_table_ren_columns"
   ]
  },
  {
   "cell_type": "code",
   "execution_count": null,
   "id": "crazy-semiconductor",
   "metadata": {
    "ExecuteTime": {
     "end_time": "2021-03-09T16:32:02.704168Z",
     "start_time": "2021-03-09T16:32:01.983623Z"
    }
   },
   "outputs": [],
   "source": [
    "# Missing values statistics\n",
    "missing_values = missing_values_table(train_df)\n",
    "display(missing_values)"
   ]
  },
  {
   "cell_type": "markdown",
   "id": "better-bracelet",
   "metadata": {},
   "source": [
    "**III. A few feature engineering**"
   ]
  },
  {
   "cell_type": "code",
   "execution_count": null,
   "id": "critical-genome",
   "metadata": {
    "ExecuteTime": {
     "end_time": "2021-03-09T16:33:48.531855Z",
     "start_time": "2021-03-09T16:33:48.518082Z"
    }
   },
   "outputs": [],
   "source": [
    "# All the process below are storing a dF of correlation between features\n",
    "# Correlation dF are processing with [simple features, log, square root, squared and cubic function]\n",
    "\n",
    "corr_matrix = pd.concat([train_df, train_target], axis=1).corr()\n",
    "\n",
    "corr_matrix_log = pd.concat([train_df.add(1).apply(np.log), train_target],\n",
    "                            axis=1).corr()\n",
    "\n",
    "corr_matrix_sqrt = pd.concat(\n",
    "    [train_df.add(1).apply(np.abs).apply(np.sqrt), train_target],\n",
    "    axis=1).corr()\n",
    "\n",
    "corr_matrix_sq = pd.concat([train_df.apply(lambda x: x**2), train_target],\n",
    "                           axis=1).corr()\n",
    "\n",
    "corr_matrix_cub = pd.concat([train_df.apply(lambda x: x**3), train_target],\n",
    "                            axis=1).corr()\n"
   ]
  },
  {
   "cell_type": "code",
   "execution_count": null,
   "id": "completed-alignment",
   "metadata": {
    "ExecuteTime": {
     "end_time": "2021-03-04T09:43:27.759740Z",
     "start_time": "2021-03-04T09:43:27.528723Z"
    }
   },
   "outputs": [],
   "source": [
    "# Concatenate the correlations values to the TARGET\n",
    "corr = pd.concat([\n",
    "    corr_matrix['TARGET'], corr_matrix_log['TARGET'],\n",
    "    corr_matrix_sqrt['TARGET'], corr_matrix_sq['TARGET'],\n",
    "    corr_matrix_cub['TARGET']\n",
    "],\n",
    "    names=['simple ft', 'log', 'sqrt', 'squared', 'cubic'],\n",
    "    axis=1)\n",
    "\n",
    "# Export the results in a csv\n",
    "corr.to_csv('corr_matrix.csv')"
   ]
  },
  {
   "cell_type": "code",
   "execution_count": null,
   "id": "surface-comment",
   "metadata": {
    "ExecuteTime": {
     "end_time": "2021-03-10T10:31:00.522481Z",
     "start_time": "2021-03-10T10:31:00.472480Z"
    }
   },
   "outputs": [],
   "source": [
    "# Use the results to analyse best correlation values\n",
    "corr = pd.read_csv('corr_matrix.csv')\n",
    "corr.columns = ['name', 'simple ft', 'log', 'sqrt', 'squared', 'cubic']\n",
    "corr.drop(index=795, inplace=True)\n",
    "\n",
    "# Drop features **2 and **3 because no results were probants\n",
    "corr.drop(columns=['squared', 'cubic'], inplace=True)"
   ]
  },
  {
   "cell_type": "code",
   "execution_count": null,
   "id": "improved-stake",
   "metadata": {
    "ExecuteTime": {
     "end_time": "2021-03-09T16:34:58.305402Z",
     "start_time": "2021-03-09T16:34:58.268425Z"
    }
   },
   "outputs": [],
   "source": [
    "# Display the best correlation and inversed correlation values\n",
    "# Only the log and square root give useful results\n",
    "display(corr.sort_values(by='log', ascending=False).head(10))\n",
    "print('Best log correlated features')\n",
    "\n",
    "display(corr.sort_values(by='sqrt', ascending=False).head(10))\n",
    "print('Best sqrt correlated features')\n",
    "\n",
    "display(corr.sort_values(by='log').head(10))\n",
    "print('Best log inverse correlated features')\n",
    "\n",
    "display(corr.sort_values(by='sqrt').head(10))\n",
    "print('Best sqrt inverse correlated features')"
   ]
  },
  {
   "cell_type": "code",
   "execution_count": null,
   "id": "amber-province",
   "metadata": {
    "ExecuteTime": {
     "end_time": "2021-03-15T05:35:05.864908Z",
     "start_time": "2021-03-15T05:35:05.683986Z"
    }
   },
   "outputs": [],
   "source": [
    "import numpy as np\n",
    "\n",
    "# Results shows us some features that can be pass to log\n",
    "features_to_log = [\n",
    "    'EXT_SOURCE_3', 'EXT_SOURCE_2', 'EXT_SOURCE_1',\n",
    "    'CC_CNT_DRAWINGS_CURRENT_VAR', 'CC_CNT_DRAWINGS_ATM_CURRENT_MEAN',\n",
    "    'CC_CNT_DRAWINGS_CURRENT_MEAN'\n",
    "]\n",
    "\n",
    "# Apply the transformation\n",
    "train_df.loc[:, features_to_log] = train_df.loc[:,\n",
    "                                                features_to_log].add(1).apply(\n",
    "                                                    np.log)"
   ]
  },
  {
   "cell_type": "code",
   "execution_count": null,
   "id": "aquatic-subscription",
   "metadata": {
    "ExecuteTime": {
     "end_time": "2021-03-09T16:35:35.536161Z",
     "start_time": "2021-03-09T16:35:29.787323Z"
    }
   },
   "outputs": [],
   "source": [
    "import matplotlib.pyplot as plt\n",
    "import seaborn as sns\n",
    "\n",
    "var = pd.concat([train_df, train_target], axis=1)\n",
    "plt.figure(figsize=(10, 12))\n",
    "\n",
    "# iterate through the sources\n",
    "for i, source in enumerate(features_to_log):\n",
    "    # create a new subplot for each source\n",
    "    plt.subplot(3, 2, i + 1)\n",
    "    # plot repaid loans\n",
    "    sns.kdeplot(var.loc[var['TARGET'] == 0, source], label='target=0')\n",
    "    # plot loans that were not repaid\n",
    "    sns.kdeplot(var.loc[var['TARGET'] == 1, source], label='target=1')\n",
    "\n",
    "    # Label the plots\n",
    "    plt.title('Distribution of %s' % source)\n",
    "    plt.xlabel('%s' % source)\n",
    "    plt.ylabel('Density')\n",
    "    plt.legend()\n",
    "plt.tight_layout(h_pad=2.5)"
   ]
  },
  {
   "cell_type": "markdown",
   "id": "controlling-advantage",
   "metadata": {},
   "source": [
    "**IV. Hyperopt bayesian optimization for hyperparameters**"
   ]
  },
  {
   "cell_type": "markdown",
   "id": "opposed-distance",
   "metadata": {},
   "source": [
    "*IV.1 Some functions to define custom metrics, model training and bayesian optimisation*"
   ]
  },
  {
   "cell_type": "code",
   "execution_count": null,
   "id": "composite-opera",
   "metadata": {
    "ExecuteTime": {
     "end_time": "2021-03-15T12:19:10.965696Z",
     "start_time": "2021-03-15T12:19:10.942792Z"
    },
    "scrolled": true
   },
   "outputs": [],
   "source": [
    "from sklearn.model_selection import StratifiedKFold\n",
    "from lightgbm import LGBMClassifier\n",
    "from sklearn.metrics import roc_auc_score, precision_recall_curve, confusion_matrix, f1_score, roc_auc_score\n",
    "from hyperopt import STATUS_OK\n",
    "import shap\n",
    "\n",
    "\n",
    "def calculate_cost(train_target, pred_array):\n",
    "    \"\"\"Custom metrics given to model.fit\"\"\"\n",
    "    cost = list()\n",
    "    precision, recall, thresholds = precision_recall_curve(\n",
    "        train_target, pred_array)\n",
    "    fscore = (2 * precision * recall) / (precision + recall)\n",
    "    \n",
    "    for t in np.linspace(np.min(thresholds), np.max(thresholds), 50):\n",
    "        pred_array_rounded = np.where(pred_array > t, 1., 0.)\n",
    "        tn, fp, fn, tp = confusion_matrix(\n",
    "            train_target, pred_array_rounded).ravel()\n",
    "        cost.append(fp * 0.1 + fn)        \n",
    "\n",
    "    #ix = np.argmax(fscore)\n",
    "    ix = np.argmin(cost)\n",
    "    \n",
    "    return 'Cost', cost[ix], False\n",
    "\n",
    "\n",
    "def bayesian_optimizer(space_params):\n",
    "    \"\"\"Function to optimize hyperparameter of the LightGBM Classifier with a Bayesian approach.\n",
    "    In output we collect some metrics as F1score, precision, recall and confusion_matrix\"\"\"\n",
    "\n",
    "    # Declare variables to store essential outputs of the function\n",
    "    pred_array = np.zeros(train_df.shape[0])\n",
    "    shap_values_zero = np.zeros((train_df.shape[0], train_df.shape[1]))\n",
    "    shap_values_one = np.zeros((train_df.shape[0], train_df.shape[1]))\n",
    "    metrics_results = dict()\n",
    "\n",
    "    # Go into the for loop and cross validation in 5 folds\n",
    "    skf = StratifiedKFold(n_splits=5, shuffle=True)\n",
    "    for i, (train_idx,\n",
    "            test_idx) in enumerate(skf.split(train_df, train_target)):\n",
    "        X_train, y_train = train_df.iloc[train_idx], train_target.iloc[\n",
    "            train_idx]\n",
    "        X_test, y_test = train_df.iloc[test_idx], train_target.iloc[test_idx]\n",
    "\n",
    "        # Instanciate the LightGBM Classifier\n",
    "        model = LGBMClassifier(**space_params)\n",
    "        # And fit with training datas\n",
    "        model.fit(X_train,\n",
    "                  y_train,\n",
    "                  eval_set=[(X_train, y_train), (X_test, y_test)],\n",
    "                  eval_metric=calculate_cost,\n",
    "                  verbose=100,\n",
    "                  early_stopping_rounds=20)\n",
    "\n",
    "        # Record the shap values to plot some graphs later\n",
    "        explainer = shap.TreeExplainer(model)\n",
    "        shap_values_zero[test_idx], shap_values_one[\n",
    "            test_idx] = explainer.shap_values(X_test)\n",
    "\n",
    "        # Record the predictions done with testing datas\n",
    "        pred_array[test_idx] = model.predict_proba(\n",
    "            X_test, num_iteration=int(model.best_iteration_))[:, 1]\n",
    "\n",
    "    # Record all the metrics in the metrics_result dictionnary\n",
    "    metrics_results['pred_array'] = pred_array\n",
    "\n",
    "\n",
    "    # Record other important value to plot shap\n",
    "\n",
    "    metrics_results['shap_values'] = shap_values_zero, shap_values_one\n",
    "    metrics_results['shap_expect_values'] = explainer.expected_value\n",
    "\n",
    "    print('******************************************************************')\n",
    "    print('Model trained and predictions done')\n",
    "    print('******************************************************************')\n",
    "\n",
    "    \n",
    "    del model, X_test, y_test, X_train, y_train\n",
    "    gc.collect()\n",
    "\n",
    "    return metrics_results\n",
    "\n",
    "\n",
    "def function_to_optimize_cost(space_params):\n",
    "    cost = list()\n",
    "    \n",
    "    metrics = bayesian_optimizer(space_params)\n",
    "    pred_array = metrics['pred_array']\n",
    "    #auc = roc_auc_score(train_target, pred_array)\n",
    "    fscore = (2 * precision * recall) / (precision + recall)\n",
    "\n",
    "    precision, recall, thresholds = precision_recall_curve(\n",
    "        train_target, pred_array)\n",
    "    \n",
    "\n",
    "    # locate the index of the largest f score\n",
    "    #ix = np.argmax(fscore)\n",
    "\n",
    "    for t in np.linspace(np.min(thresholds), np.max(thresholds), 10):\n",
    "        pred_array_rounded = np.where(pred_array > t, 1., 0.)\n",
    "        tn, fp, fn, tp = confusion_matrix(\n",
    "            train_target, pred_array_rounded).ravel()\n",
    "        cost.append(fp * 0.1 + fn)\n",
    "        \n",
    "    ix = np.argmin(cost)\n",
    "\n",
    "    return {'loss': cost[ix], 'status': STATUS_OK}"
   ]
  },
  {
   "cell_type": "markdown",
   "id": "broadband-definition",
   "metadata": {},
   "source": [
    "*IV.2 Run the bayesian optimisation*"
   ]
  },
  {
   "cell_type": "code",
   "execution_count": null,
   "id": "italic-click",
   "metadata": {
    "ExecuteTime": {
     "end_time": "2021-03-12T10:13:46.769137Z",
     "start_time": "2021-03-12T08:02:00.760387Z"
    },
    "scrolled": true
   },
   "outputs": [],
   "source": [
    "from hyperopt import Trials, hp, tpe, fmin, space_eval, STATUS_OK\n",
    "from hyperopt.pyll import scope\n",
    "import warnings\n",
    "\n",
    "warnings.filterwarnings(\"ignore\")\n",
    "\n",
    "space_params = {\n",
    "    # 'is_unbalance': hp.choice('is_unbalance', [True, False]),\n",
    "    'scale_pos_weight': hp.uniform('scale_pos_weight', 0.01, 1.),\n",
    "    'n_estimators':\n",
    "    hp.choice('n_estimators', np.arange(100, 1500, 1000)),  # go for int values\n",
    "    'learning_rate':\n",
    "    hp.uniform('learning_rate', 0.0001, 0.2),\n",
    "    'num_leaves':\n",
    "    hp.choice('num_leaves', np.arange(30, 150, 1)),\n",
    "    'colsample_bytree':\n",
    "    hp.uniform('colsample_bytree', 0.01, 0.9),\n",
    "    'subsample':\n",
    "    hp.uniform('subsample', 0.01, 0.9),\n",
    "    'max_depth':\n",
    "    hp.choice('max_depth', range(4, 10, 1)),  # go for int values\n",
    "    'reg_alpha':\n",
    "    hp.uniform('reg_alpha', 0., 0.4),\n",
    "    'reg_lambda':\n",
    "    hp.uniform('reg_lambda', 0., 0.4),\n",
    "    'min_split_gain':\n",
    "    hp.uniform('min_split_gain', 0.01, 0.1),\n",
    "    'min_child_weight':\n",
    "    hp.uniform('min_child_weight', 10, 70)\n",
    "}\n",
    "\n",
    "trials = Trials()\n",
    "\n",
    "best_params_auc = fmin(fn=function_to_optimize_cost,\n",
    "                   space=space_params,\n",
    "                   algo=tpe.suggest,\n",
    "                   max_evals=20,\n",
    "                   trials=trials,\n",
    "                   verbose=50)\n",
    "\n",
    "print('******************************************************************')\n",
    "print('Best parameters AUC with bayesian optimization are :', '\\n')\n",
    "print(best_params_auc)\n",
    "print('******************************************************************')"
   ]
  },
  {
   "cell_type": "raw",
   "id": "intensive-sympathy",
   "metadata": {},
   "source": [
    "******************************************************************                   \n",
    "Model trained and predictions done                                                   \n",
    "******************************************************************                   \n",
    "100%|██████████| 20/20 [2:11:45<00:00, 395.30s/trial, best loss: -0.7904473555284327]\n",
    "******************************************************************\n",
    "Best parameters AUC with bayesian optimization are : \n",
    "\n",
    "{'colsample_bytree': 0.50018170495396, 'learning_rate': 0.04970169683645194, 'max_depth': 7, 'min_child_weight': 35.33573599036782, 'min_split_gain': 0.08242022792238234, 'n_estimators': 10000, 'num_leaves': 3, 'reg_alpha': 0.11586370284056541, 'reg_lambda': 0.012291723904382114, 'subsample': 0.30588097812405807}\n",
    "******************************************************************"
   ]
  },
  {
   "cell_type": "code",
   "execution_count": null,
   "id": "romantic-bunch",
   "metadata": {
    "ExecuteTime": {
     "end_time": "2021-03-12T14:53:26.963107Z",
     "start_time": "2021-03-12T12:52:11.502714Z"
    },
    "scrolled": true
   },
   "outputs": [],
   "source": [
    "trials = Trials()\n",
    "\n",
    "best_params_fscore = fmin(fn=function_to_optimize_cost,\n",
    "                   space=space_params,\n",
    "                   algo=tpe.suggest,\n",
    "                   max_evals=20,\n",
    "                   trials=trials,\n",
    "                   verbose=50)\n",
    "\n",
    "print('******************************************************************')\n",
    "print('Best parameters F-Score with bayesian optimization are :', '\\n')\n",
    "print(best_params_fscore)\n",
    "print('******************************************************************')"
   ]
  },
  {
   "cell_type": "raw",
   "id": "ongoing-blair",
   "metadata": {},
   "source": [
    "******************************************************************                   \n",
    "Model trained and predictions done                                                   \n",
    "******************************************************************                   \n",
    "100%|██████████| 20/20 [2:01:15<00:00, 363.77s/trial, best loss: -0.3403369009973242]\n",
    "******************************************************************\n",
    "Best parameters F-Score with bayesian optimization are : \n",
    "\n",
    "{'colsample_bytree': 0.469999833933038, 'learning_rate': 0.12559265536681236, 'max_depth': 2, 'min_child_weight': 45.85640964610905, 'min_split_gain': 0.08668788543317363, 'n_estimators': 2, 'num_leaves': 4, 'reg_alpha': 0.19312430574297013, 'reg_lambda': 0.18599315815613365, 'subsample': 0.3111684307194836}\n",
    "******************************************************************"
   ]
  },
  {
   "cell_type": "code",
   "execution_count": null,
   "id": "broke-combination",
   "metadata": {
    "ExecuteTime": {
     "end_time": "2021-03-14T08:29:03.007010Z",
     "start_time": "2021-03-13T18:27:52.098569Z"
    },
    "scrolled": true
   },
   "outputs": [],
   "source": [
    "trials = Trials()\n",
    "\n",
    "best_params_cost = fmin(fn=function_to_optimize_cost,\n",
    "                   space=space_params,\n",
    "                   algo=tpe.suggest,\n",
    "                   max_evals=20,\n",
    "                   trials=trials,\n",
    "                   verbose=10)\n",
    "\n",
    "print('******************************************************************')\n",
    "print('Best parameters with bayesian optimization are :', '\\n')\n",
    "print(best_params_cost)\n",
    "print('******************************************************************')"
   ]
  },
  {
   "cell_type": "raw",
   "id": "danish-therapist",
   "metadata": {},
   "source": [
    "******************************************************************         \n",
    "Model trained and predictions done                                         \n",
    "******************************************************************         \n",
    "100%|██████████| 20/20 [14:01:10<00:00, 2523.54s/trial, best loss: 15556.0]\n",
    "******************************************************************\n",
    "Best parameters with bayesian optimization are : \n",
    "\n",
    "{'colsample_bytree': 0.7064993354153329, 'learning_rate': 0.1032667159277391, 'max_depth': 0, 'min_child_weight': 67.93511300545921, 'min_split_gain': 0.038522763282511634, 'n_estimators': 200, 'num_leaves': 48, 'reg_alpha': 0.21592870107220366, 'reg_lambda': 0.04113332610879464, 'scale_pos_weight': 0.854038072468397, 'subsample': 0.18522195658053386}\n",
    "******************************************************************"
   ]
  },
  {
   "cell_type": "code",
   "execution_count": null,
   "id": "outside-parker",
   "metadata": {
    "ExecuteTime": {
     "end_time": "2021-03-15T12:17:14.267961Z",
     "start_time": "2021-03-15T12:17:14.240097Z"
    }
   },
   "outputs": [],
   "source": [
    "best_params_auc = dict()\n",
    "best_params_fscore = dict()\n",
    "best_params_cost = dict()\n",
    "\n",
    "for i, j in pd.read_csv('best_params_auc.csv').values:\n",
    "    best_params_auc[i] = j\n",
    "    \n",
    "for i, j in pd.read_csv('best_params_fscore.csv').values:\n",
    "    best_params_fscore[i] = j\n",
    "    \n",
    "for i, j in pd.read_csv('best_params_cost.csv').values:\n",
    "    best_params_cost[i] = j\n",
    "    \n",
    "best_params_auc['first_metric_only'] = True\n",
    "best_params_fscore['first_metric_only'] = True\n",
    "best_params_cost['first_metric_only'] = True\n",
    "\n",
    "best_params_auc['n_estimators'] = int(best_params_auc['n_estimators'])\n",
    "best_params_auc['max_depth'] = int(best_params_auc['max_depth'])\n",
    "best_params_auc['num_leaves'] = int(best_params_auc['num_leaves'])\n",
    "\n",
    "best_params_fscore['n_estimators'] = int(best_params_fscore['n_estimators'])\n",
    "best_params_fscore['max_depth'] = int(best_params_fscore['max_depth'])\n",
    "best_params_fscore['num_leaves'] = int(best_params_fscore['num_leaves'])\n",
    "\n",
    "best_params_cost['n_estimators'] = int(best_params_cost['n_estimators'])\n",
    "best_params_cost['max_depth'] = int(best_params_cost['max_depth'])\n",
    "best_params_cost['num_leaves'] = int(best_params_cost['num_leaves'])"
   ]
  },
  {
   "cell_type": "markdown",
   "id": "engaging-debate",
   "metadata": {},
   "source": [
    "**V. Initiate the model and plot some graphs about performance**"
   ]
  },
  {
   "cell_type": "markdown",
   "id": "white-upgrade",
   "metadata": {},
   "source": [
    "*V.1 AUC as metric to train the model*"
   ]
  },
  {
   "cell_type": "code",
   "execution_count": null,
   "id": "continued-salon",
   "metadata": {
    "ExecuteTime": {
     "end_time": "2021-03-15T09:49:27.819229Z",
     "start_time": "2021-03-15T09:28:58.934514Z"
    },
    "scrolled": true
   },
   "outputs": [],
   "source": [
    "metrics_auc = bayesian_optimizer(best_params_auc)"
   ]
  },
  {
   "cell_type": "raw",
   "id": "accepting-companion",
   "metadata": {},
   "source": [
    "[1486]\ttraining's auc: 0.795744\ttraining's binary_logloss: 0.234408\tvalid_1's auc: 0.789747\tvalid_1's binary_logloss: 0.236431\n",
    "******************************************************************\n",
    "Model trained and predictions done\n",
    "******************************************************************"
   ]
  },
  {
   "cell_type": "code",
   "execution_count": 59,
   "id": "generic-atlas",
   "metadata": {
    "ExecuteTime": {
     "end_time": "2021-03-15T12:04:47.436017Z",
     "start_time": "2021-03-15T12:04:47.240938Z"
    }
   },
   "outputs": [
    {
     "name": "stdout",
     "output_type": "stream",
     "text": [
      "AUC ROC score:  0.7863678473007646\n",
      "Best Threshold=0.169451, F-Score=0.337\n"
     ]
    }
   ],
   "source": [
    "pred_array = metrics_auc['pred_array']\n",
    "\n",
    "precision, recall, thresholds = precision_recall_curve(\n",
    "        train_target, pred_array)\n",
    "\n",
    "fscore = (2 * precision * recall) / (precision + recall)\n",
    "\n",
    "ix = np.argmax(fscore)\n",
    "\n",
    "print('AUC ROC score: ', roc_auc_score(train_target, pred_array))\n",
    "print('Best Threshold=%f, F-Score=%.3f' % (thresholds[ix], fscore[ix]))"
   ]
  },
  {
   "cell_type": "code",
   "execution_count": 60,
   "id": "figured-official",
   "metadata": {
    "ExecuteTime": {
     "end_time": "2021-03-15T12:04:52.148925Z",
     "start_time": "2021-03-15T12:04:51.803427Z"
    }
   },
   "outputs": [
    {
     "data": {
      "image/png": "[encoded data removed]",
      "text/plain": [
       "<Figure size 432x288 with 1 Axes>"
      ]
     },
     "metadata": {
      "needs_background": "light"
     },
     "output_type": "display_data"
    }
   ],
   "source": [
    "# plot the PR curve for the model\n",
    "no_skill = len(train_target[train_target == 1]) / len(train_target)\n",
    "plt.plot([0, 1], [no_skill, no_skill], linestyle='--', label='No Skill')\n",
    "plt.plot(recall, precision, marker=',', label='LightGBM')\n",
    "plt.scatter(recall[ix], precision[ix], marker='o', color='black', label='Best')\n",
    "\n",
    "# axis labels\n",
    "plt.xlabel('Recall')\n",
    "plt.ylabel('Precision')\n",
    "plt.legend()\n",
    "\n",
    "plt.title('PR Curve based on LightGBM: AUC ROC optimisation')\n",
    "# show the plot\n",
    "plt.show()"
   ]
  },
  {
   "cell_type": "code",
   "execution_count": 61,
   "id": "smoking-privilege",
   "metadata": {
    "ExecuteTime": {
     "end_time": "2021-03-15T12:04:59.825499Z",
     "start_time": "2021-03-15T12:04:59.509206Z"
    }
   },
   "outputs": [
    {
     "data": {
      "image/png": "[encoded data removed]",
      "text/plain": [
       "<Figure size 432x288 with 1 Axes>"
      ]
     },
     "metadata": {
      "needs_background": "light"
     },
     "output_type": "display_data"
    }
   ],
   "source": [
    "from sklearn.metrics import ConfusionMatrixDisplay\n",
    "import matplotlib.pyplot as plt\n",
    "import seaborn as sns\n",
    "\n",
    "# Round the predicted results\n",
    "pred_array_rounded = np.where(pred_array > thresholds[ix], 1., 0.)\n",
    "\n",
    "cm = confusion_matrix(train_target, pred_array_rounded)\n",
    "sns.heatmap(cm, annot=True, fmt='', cmap='Blues', cbar=False)\n",
    "\n",
    "plt.title('Confusion matrix based on best AUC ROC')\n",
    "plt.xlabel('Predicted datas')\n",
    "plt.ylabel('True target')\n",
    "\n",
    "plt.show()"
   ]
  },
  {
   "cell_type": "markdown",
   "id": "finite-nylon",
   "metadata": {},
   "source": [
    "*V.1 F-Score as metric to train the model*"
   ]
  },
  {
   "cell_type": "code",
   "execution_count": null,
   "id": "incoming-clear",
   "metadata": {
    "ExecuteTime": {
     "end_time": "2021-03-15T08:28:14.797406Z",
     "start_time": "2021-03-15T08:22:42.314566Z"
    },
    "scrolled": true
   },
   "outputs": [],
   "source": [
    "metrics_fscore = bayesian_optimizer(best_params_fscore)"
   ]
  },
  {
   "cell_type": "raw",
   "id": "alleged-inside",
   "metadata": {},
   "source": [
    "[297]\ttraining's binary_logloss: 0.235357\ttraining's F-Score: 0.345218\tvalid_1's binary_logloss: 0.239212\tvalid_1's F-Score: 0.336266\n",
    "LightGBM binary classifier with TreeExplainer shap values output has changed to a list of ndarray\n",
    "******************************************************************\n",
    "Model trained and predictions done\n",
    "******************************************************************"
   ]
  },
  {
   "cell_type": "code",
   "execution_count": 47,
   "id": "statistical-parent",
   "metadata": {
    "ExecuteTime": {
     "end_time": "2021-03-15T08:33:41.264331Z",
     "start_time": "2021-03-15T08:33:41.089215Z"
    }
   },
   "outputs": [
    {
     "name": "stdout",
     "output_type": "stream",
     "text": [
      "AUC ROC score:  0.7738057961613879\n",
      "Best Threshold=0.154461, F-Score=0.323\n"
     ]
    }
   ],
   "source": [
    "pred_array = metrics_fscore['pred_array']\n",
    "\n",
    "\n",
    "precision, recall, thresholds = precision_recall_curve(\n",
    "        train_target, pred_array)\n",
    "\n",
    "fscore = (2 * precision * recall) / (precision + recall)\n",
    "\n",
    "ix = np.argmax(fscore)\n",
    "print('AUC ROC score: ', roc_auc_score(train_target, pred_array))\n",
    "print('Best Threshold=%f, F-Score=%.3f' % (thresholds[ix], fscore[ix]))"
   ]
  },
  {
   "cell_type": "code",
   "execution_count": 48,
   "id": "narrow-agreement",
   "metadata": {
    "ExecuteTime": {
     "end_time": "2021-03-15T08:33:42.565580Z",
     "start_time": "2021-03-15T08:33:42.256082Z"
    }
   },
   "outputs": [
    {
     "data": {
      "image/png": "[encoded data removed]",
      "text/plain": [
       "<Figure size 432x288 with 1 Axes>"
      ]
     },
     "metadata": {
      "needs_background": "light"
     },
     "output_type": "display_data"
    }
   ],
   "source": [
    "# Round the predicted results\n",
    "pred_array_rounded = np.where(pred_array > thresholds[ix], 1., 0.)\n",
    "\n",
    "cm = confusion_matrix(train_target, pred_array_rounded)\n",
    "sns.heatmap(cm, annot=True, fmt='', cmap='Blues', cbar=False)\n",
    "\n",
    "plt.title('Confusion matrix based on best F Score')\n",
    "plt.xlabel('Predicted datas')\n",
    "plt.ylabel('True target')\n",
    "\n",
    "plt.show()"
   ]
  },
  {
   "cell_type": "code",
   "execution_count": 49,
   "id": "durable-charleston",
   "metadata": {
    "ExecuteTime": {
     "end_time": "2021-03-15T08:33:44.844793Z",
     "start_time": "2021-03-15T08:33:44.525098Z"
    }
   },
   "outputs": [
    {
     "data": {
      "image/png": "[encoded data removed]",
      "text/plain": [
       "<Figure size 432x288 with 1 Axes>"
      ]
     },
     "metadata": {
      "needs_background": "light"
     },
     "output_type": "display_data"
    }
   ],
   "source": [
    "# plot the PR curve for the model\n",
    "no_skill = len(train_target[train_target == 1]) / len(train_target)\n",
    "plt.plot([0, 1], [no_skill, no_skill], linestyle='--', label='No Skill')\n",
    "plt.plot(recall, precision, marker=',', label='LightGBM')\n",
    "plt.scatter(recall[ix], precision[ix], marker='o', color='black', label='Best')\n",
    "\n",
    "# axis labels\n",
    "plt.xlabel('Recall')\n",
    "plt.ylabel('Precision')\n",
    "plt.legend()\n",
    "\n",
    "plt.title('PR Curve based on LightGBM: FScore optimisation')\n",
    "# show the plot\n",
    "plt.show()"
   ]
  },
  {
   "cell_type": "markdown",
   "id": "supposed-honduras",
   "metadata": {},
   "source": [
    "**VI. Make the model more robust and then show the shap summary plot**"
   ]
  },
  {
   "cell_type": "code",
   "execution_count": null,
   "id": "accurate-aggregate",
   "metadata": {
    "ExecuteTime": {
     "end_time": "2021-03-15T18:15:12.508503Z",
     "start_time": "2021-03-15T16:07:30.862505Z"
    }
   },
   "outputs": [],
   "source": [
    "import dill as pickle\n",
    "\n",
    "\n",
    "pred_array = np.zeros((train_df.shape[0], train_df.shape[1]))\n",
    "shap_values_zero = np.zeros((train_df.shape[0], train_df.shape[1]))\n",
    "shap_values_one = np.zeros((train_df.shape[0], train_df.shape[1]))\n",
    "metrics_results = dict()\n",
    "\n",
    "# Instanciate the LightGBM Classifier\n",
    "model = LGBMClassifier(**best_params_cost)\n",
    "# And fit with training datas\n",
    "model.fit(train_df,\n",
    "          train_target,\n",
    "          eval_set=[(train_df, train_target)],\n",
    "          eval_metric=calculate_cost,\n",
    "          verbose=10,\n",
    "          early_stopping_rounds=20)\n",
    "\n",
    "# Record model as pickle\n",
    "light_gbm = 'model.pk'\n",
    "\n",
    "with open('/Users/DrDjekyl/DataScience_OpenClassRooms/P7/repo_git/'+light_gbm,'wb') as f:\n",
    "     pickle.dump(model, f)"
   ]
  },
  {
   "cell_type": "raw",
   "id": "blind-heritage",
   "metadata": {},
   "source": [
    "[200]\ttraining's binary_logloss: 0.205164\ttraining's Cost: 11403.5\n",
    "Evaluated only: binary_logloss"
   ]
  },
  {
   "cell_type": "code",
   "execution_count": 83,
   "id": "federal-football",
   "metadata": {
    "ExecuteTime": {
     "end_time": "2021-03-15T18:40:30.874066Z",
     "start_time": "2021-03-15T18:40:20.134610Z"
    }
   },
   "outputs": [
    {
     "name": "stdout",
     "output_type": "stream",
     "text": [
      "******************************************************************\n",
      "Model trained and predictions done\n",
      "******************************************************************\n"
     ]
    }
   ],
   "source": [
    "# Record the shap values to plot some graphs later\n",
    "explainer = shap.TreeExplainer(model)\n",
    "shap_values_zero, shap_values_one = explainer.shap_values(train_df)\n",
    "\n",
    "# Record the predictions done with testing datas\n",
    "pred_array = model.predict_proba(\n",
    "    train_df, num_iteration=int(model.best_iteration_))[:, 1]\n",
    "\n",
    "# Record all the metrics in the metrics_result dictionnary\n",
    "metrics_results['pred_array'] = pred_array\n",
    "\n",
    "# Record other important value to plot shap\n",
    "metrics_results['shap_values'] = shap_values_zero, shap_values_one\n",
    "metrics_results['shap_expect_values'] = explainer.expected_value\n",
    "\n",
    "print('******************************************************************')\n",
    "print('Model trained and predictions done')\n",
    "print('******************************************************************')"
   ]
  },
  {
   "cell_type": "code",
   "execution_count": 86,
   "id": "characteristic-innocent",
   "metadata": {
    "ExecuteTime": {
     "end_time": "2021-03-15T18:41:43.329372Z",
     "start_time": "2021-03-15T18:41:43.119788Z"
    }
   },
   "outputs": [
    {
     "name": "stdout",
     "output_type": "stream",
     "text": [
      "AUC ROC score:  0.8679180657510506\n",
      "Best Threshold=0.184335, F-Score=0.463\n"
     ]
    }
   ],
   "source": [
    "precision, recall, thresholds = precision_recall_curve(\n",
    "        train_target, pred_array)\n",
    "\n",
    "fscore = (2 * precision * recall) / (precision + recall)\n",
    "\n",
    "ix = np.argmax(fscore)\n",
    "print('AUC ROC score: ', roc_auc_score(train_target, pred_array))\n",
    "print('Best Threshold=%f, F-Score=%.3f' % (thresholds[ix], fscore[ix]))"
   ]
  },
  {
   "cell_type": "code",
   "execution_count": 92,
   "id": "reduced-florence",
   "metadata": {
    "ExecuteTime": {
     "end_time": "2021-03-15T18:48:38.044150Z",
     "start_time": "2021-03-15T18:48:26.126550Z"
    }
   },
   "outputs": [
    {
     "name": "stdout",
     "output_type": "stream",
     "text": [
      "Best Threshold=0.004981, Cost=11388.200\n"
     ]
    }
   ],
   "source": [
    "cost = list()\n",
    "\n",
    "for t in np.linspace(0.01, 0.2, 50):\n",
    "    pred_array_rounded = np.where(pred_array > t, 1., 0.)\n",
    "    tn, fp, fn, tp = confusion_matrix(\n",
    "        train_target, pred_array_rounded).ravel()\n",
    "    cost.append(fp * 0.1 + fn)        \n",
    "\n",
    "ix = np.argmin(cost)\n",
    "print('Best Threshold=%f, Cost=%.3f' % (thresholds[ix], cost[ix]))"
   ]
  },
  {
   "cell_type": "code",
   "execution_count": 103,
   "id": "proved-count",
   "metadata": {
    "ExecuteTime": {
     "end_time": "2021-03-15T19:09:12.532829Z",
     "start_time": "2021-03-15T19:09:12.205077Z"
    }
   },
   "outputs": [
    {
     "data": {
      "image/png": "[encoded data removed]",
      "text/plain": [
       "<Figure size 432x288 with 1 Axes>"
      ]
     },
     "metadata": {
      "needs_background": "light"
     },
     "output_type": "display_data"
    }
   ],
   "source": [
    "from sklearn.metrics import ConfusionMatrixDisplay\n",
    "import matplotlib.pyplot as plt\n",
    "import seaborn as sns\n",
    "\n",
    "\n",
    "# Round the predicted results\n",
    "pred_array_rounded = np.where(pred_array > 0.1, 1., 0.)\n",
    "\n",
    "cm = confusion_matrix(train_target, pred_array_rounded)\n",
    "sns.heatmap(cm, annot=True, fmt='', cmap='Blues', cbar=False)\n",
    "\n",
    "plt.title('Confusion matrix based on best cost')\n",
    "plt.xlabel('Predicted datas')\n",
    "plt.ylabel('True target')\n",
    "\n",
    "plt.show()"
   ]
  },
  {
   "cell_type": "code",
   "execution_count": 94,
   "id": "systematic-replacement",
   "metadata": {
    "ExecuteTime": {
     "end_time": "2021-03-15T18:51:52.145669Z",
     "start_time": "2021-03-15T18:51:51.729526Z"
    }
   },
   "outputs": [
    {
     "data": {
      "image/png": "[encoded data removed]",
      "text/plain": [
       "<Figure size 432x288 with 1 Axes>"
      ]
     },
     "metadata": {
      "needs_background": "light"
     },
     "output_type": "display_data"
    }
   ],
   "source": [
    "# plot the PR curve for the model\n",
    "no_skill = len(train_target[train_target == 1]) / len(train_target)\n",
    "plt.plot([0, 1], [no_skill, no_skill], linestyle='--', label='No Skill')\n",
    "plt.plot(recall, precision, marker=',', label='LightGBM')\n",
    "plt.scatter(recall[ix], precision[ix], marker='o', color='black', label='Best')\n",
    "\n",
    "# axis labels\n",
    "plt.xlabel('Recall')\n",
    "plt.ylabel('Precision')\n",
    "plt.legend()\n",
    "\n",
    "plt.title('PR Curve based on LightGBM: FScore optimisation')\n",
    "# show the plot\n",
    "plt.show()"
   ]
  },
  {
   "cell_type": "code",
   "execution_count": 96,
   "id": "engaged-thesaurus",
   "metadata": {
    "ExecuteTime": {
     "end_time": "2021-03-15T18:53:15.105588Z",
     "start_time": "2021-03-15T18:52:41.762822Z"
    }
   },
   "outputs": [
    {
     "data": {
      "image/png": "[encoded data removed]",
      "text/plain": [
       "<Figure size 576x684 with 2 Axes>"
      ]
     },
     "metadata": {
      "needs_background": "light"
     },
     "output_type": "display_data"
    }
   ],
   "source": [
    "shap.summary_plot(metrics_results['shap_values'][1], train_df)"
   ]
  },
  {
   "cell_type": "code",
   "execution_count": null,
   "id": "ready-opera",
   "metadata": {
    "ExecuteTime": {
     "end_time": "2021-03-20T08:56:31.749243Z",
     "start_time": "2021-03-20T08:56:31.619677Z"
    }
   },
   "outputs": [],
   "source": [
    "# visualize the first prediction's explanation with a force plot\n",
    "shap.initjs()\n",
    "plot = shap.plots.force(metrics_results['shap_expect_values'][1],\n",
    "                 metrics_results['shap_values'][1][0], feature_names=train_df.columns)"
   ]
  }
 ],
 "metadata": {
  "kernelspec": {
   "display_name": "Python 3",
   "language": "python",
   "name": "python3"
  },
  "language_info": {
   "codemirror_mode": {
    "name": "ipython",
    "version": 3
   },
   "file_extension": ".py",
   "mimetype": "text/x-python",
   "name": "python",
   "nbconvert_exporter": "python",
   "pygments_lexer": "ipython3",
   "version": "3.8.5"
  }
 },
 "nbformat": 4,
 "nbformat_minor": 5
}
